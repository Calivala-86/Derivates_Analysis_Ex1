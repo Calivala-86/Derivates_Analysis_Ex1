{
 "cells": [
  {
   "cell_type": "code",
   "execution_count": null,
   "id": "a14e03d2",
   "metadata": {},
   "outputs": [],
   "source": [
    "#\n",
    "# Analyzing DAX Index Quotes and Returns\n",
    "# Source: http://finance.yahoo.com\n",
    "#\n",
    "# Fernando\n",
    "# Derivatives Analytics with Python\n",
    "#"
   ]
  },
  {
   "cell_type": "code",
   "execution_count": 51,
   "id": "ff490cb9",
   "metadata": {},
   "outputs": [],
   "source": [
    "import numpy as np\n",
    "import yfinance as yf"
   ]
  },
  {
   "cell_type": "code",
   "execution_count": 64,
   "id": "3ae19bcd",
   "metadata": {
    "scrolled": true
   },
   "outputs": [
    {
     "name": "stdout",
     "output_type": "stream",
     "text": [
      "[*********************100%%**********************]  1 of 1 completed\n"
     ]
    },
    {
     "data": {
      "text/html": [
       "<div>\n",
       "<style scoped>\n",
       "    .dataframe tbody tr th:only-of-type {\n",
       "        vertical-align: middle;\n",
       "    }\n",
       "\n",
       "    .dataframe tbody tr th {\n",
       "        vertical-align: top;\n",
       "    }\n",
       "\n",
       "    .dataframe thead th {\n",
       "        text-align: right;\n",
       "    }\n",
       "</style>\n",
       "<table border=\"1\" class=\"dataframe\">\n",
       "  <thead>\n",
       "    <tr style=\"text-align: right;\">\n",
       "      <th></th>\n",
       "      <th>Open</th>\n",
       "      <th>High</th>\n",
       "      <th>Low</th>\n",
       "      <th>Close</th>\n",
       "      <th>index</th>\n",
       "      <th>Volume</th>\n",
       "      <th>returns</th>\n",
       "      <th>rea_var</th>\n",
       "      <th>rea_vol</th>\n",
       "    </tr>\n",
       "    <tr>\n",
       "      <th>Date</th>\n",
       "      <th></th>\n",
       "      <th></th>\n",
       "      <th></th>\n",
       "      <th></th>\n",
       "      <th></th>\n",
       "      <th></th>\n",
       "      <th></th>\n",
       "      <th></th>\n",
       "      <th></th>\n",
       "    </tr>\n",
       "  </thead>\n",
       "  <tbody>\n",
       "    <tr>\n",
       "      <th>2004-10-01</th>\n",
       "      <td>3895.149902</td>\n",
       "      <td>3996.110107</td>\n",
       "      <td>3895.149902</td>\n",
       "      <td>3994.959961</td>\n",
       "      <td>3994.959961</td>\n",
       "      <td>111214400</td>\n",
       "      <td>0.025879</td>\n",
       "      <td>0.168773</td>\n",
       "      <td>0.410820</td>\n",
       "    </tr>\n",
       "    <tr>\n",
       "      <th>2004-10-04</th>\n",
       "      <td>4005.639893</td>\n",
       "      <td>4059.270020</td>\n",
       "      <td>4005.639893</td>\n",
       "      <td>4033.280029</td>\n",
       "      <td>4033.280029</td>\n",
       "      <td>102621700</td>\n",
       "      <td>0.009546</td>\n",
       "      <td>0.095869</td>\n",
       "      <td>0.309628</td>\n",
       "    </tr>\n",
       "    <tr>\n",
       "      <th>2004-10-05</th>\n",
       "      <td>4034.300049</td>\n",
       "      <td>4078.500000</td>\n",
       "      <td>4023.750000</td>\n",
       "      <td>4048.709961</td>\n",
       "      <td>4048.709961</td>\n",
       "      <td>110199700</td>\n",
       "      <td>0.003818</td>\n",
       "      <td>0.065138</td>\n",
       "      <td>0.255220</td>\n",
       "    </tr>\n",
       "    <tr>\n",
       "      <th>2004-10-06</th>\n",
       "      <td>4046.300049</td>\n",
       "      <td>4062.189941</td>\n",
       "      <td>4030.739990</td>\n",
       "      <td>4049.659912</td>\n",
       "      <td>4049.659912</td>\n",
       "      <td>97875300</td>\n",
       "      <td>0.000235</td>\n",
       "      <td>0.048857</td>\n",
       "      <td>0.221035</td>\n",
       "    </tr>\n",
       "    <tr>\n",
       "      <th>2004-10-07</th>\n",
       "      <td>4062.939941</td>\n",
       "      <td>4077.330078</td>\n",
       "      <td>4034.260010</td>\n",
       "      <td>4043.360107</td>\n",
       "      <td>4043.360107</td>\n",
       "      <td>90696000</td>\n",
       "      <td>-0.001557</td>\n",
       "      <td>0.039207</td>\n",
       "      <td>0.198009</td>\n",
       "    </tr>\n",
       "  </tbody>\n",
       "</table>\n",
       "</div>"
      ],
      "text/plain": [
       "                   Open         High          Low        Close        index  \\\n",
       "Date                                                                          \n",
       "2004-10-01  3895.149902  3996.110107  3895.149902  3994.959961  3994.959961   \n",
       "2004-10-04  4005.639893  4059.270020  4005.639893  4033.280029  4033.280029   \n",
       "2004-10-05  4034.300049  4078.500000  4023.750000  4048.709961  4048.709961   \n",
       "2004-10-06  4046.300049  4062.189941  4030.739990  4049.659912  4049.659912   \n",
       "2004-10-07  4062.939941  4077.330078  4034.260010  4043.360107  4043.360107   \n",
       "\n",
       "               Volume   returns   rea_var   rea_vol  \n",
       "Date                                                 \n",
       "2004-10-01  111214400  0.025879  0.168773  0.410820  \n",
       "2004-10-04  102621700  0.009546  0.095869  0.309628  \n",
       "2004-10-05  110199700  0.003818  0.065138  0.255220  \n",
       "2004-10-06   97875300  0.000235  0.048857  0.221035  \n",
       "2004-10-07   90696000 -0.001557  0.039207  0.198009  "
      ]
     },
     "execution_count": 64,
     "metadata": {},
     "output_type": "execute_result"
    }
   ],
   "source": [
    "# Read Data for DAX from the Web\n",
    "def read_dax_data():\n",
    "    ''' Reads historical DAX data from Yahoo! Finance, calculates log returns, realized variance and volatility.'''\n",
    "    DAX = yf.download('^GDAXI','2004-09-30','2014-09-30')\n",
    "    DAX.rename(columns={'Adj Close' : 'index'}, inplace=True)\n",
    "    DAX['returns'] = np.log(DAX['index'] / DAX['index'].shift(1)) \n",
    "    DAX['rea_var'] = 252 * np.cumsum(DAX['returns'] ** 2) / np.arange(len(DAX)) \n",
    "    DAX['rea_vol'] = np.sqrt(DAX['rea_var'])\n",
    "    DAX = DAX.dropna()\n",
    "    \n",
    "    return DAX\n",
    "\n",
    "read_dax_data().head()"
   ]
  },
  {
   "cell_type": "code",
   "execution_count": 65,
   "id": "85283685",
   "metadata": {},
   "outputs": [
    {
     "name": "stdout",
     "output_type": "stream",
     "text": [
      "[*********************100%%**********************]  1 of 1 completed\n"
     ]
    }
   ],
   "source": [
    "data = read_dax_data()"
   ]
  },
  {
   "cell_type": "code",
   "execution_count": 63,
   "id": "71114431",
   "metadata": {},
   "outputs": [
    {
     "data": {
      "text/plain": [
       "0"
      ]
     },
     "execution_count": 63,
     "metadata": {},
     "output_type": "execute_result"
    }
   ],
   "source": [
    "def count_jumps(data, value):\n",
    "    ''' Counts the number of return jumps as defined in size by value. ''' \n",
    "    jumps = np.sum(np.abs(data['returns']) > value)\n",
    "    return jumps"
   ]
  },
  {
   "cell_type": "code",
   "execution_count": null,
   "id": "9dcda1e2",
   "metadata": {},
   "outputs": [],
   "source": []
  }
 ],
 "metadata": {
  "kernelspec": {
   "display_name": "Python 3 (ipykernel)",
   "language": "python",
   "name": "python3"
  },
  "language_info": {
   "codemirror_mode": {
    "name": "ipython",
    "version": 3
   },
   "file_extension": ".py",
   "mimetype": "text/x-python",
   "name": "python",
   "nbconvert_exporter": "python",
   "pygments_lexer": "ipython3",
   "version": "3.11.4"
  }
 },
 "nbformat": 4,
 "nbformat_minor": 5
}
