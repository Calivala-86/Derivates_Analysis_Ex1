{
 "cells": [
  {
   "cell_type": "markdown",
   "id": "60a16283",
   "metadata": {},
   "source": [
    "# Derivatives Analytics with Python"
   ]
  },
  {
   "cell_type": "markdown",
   "id": "272d082b",
   "metadata": {},
   "source": [
    "## European Call Option Inner Value Plot"
   ]
  },
  {
   "cell_type": "code",
   "execution_count": 7,
   "id": "9dfa0afc",
   "metadata": {},
   "outputs": [],
   "source": [
    "# Import libs\n",
    "\n",
    "import numpy as np\n",
    "import matplotlib as mpl\n",
    "import matplotlib.pyplot as plt \n",
    "mpl.rcParams['font.family'] = 'serif'"
   ]
  },
  {
   "cell_type": "markdown",
   "id": "4c3fe093",
   "metadata": {},
   "source": [
    "## European call option\n",
    "\n",
    "hT(S,K)=max[ST −K,0]\n",
    "\n",
    "where T is the maturity date of the option, ST the index level at this date and K represents the strike price."
   ]
  },
  {
   "cell_type": "code",
   "execution_count": 16,
   "id": "785a5241",
   "metadata": {},
   "outputs": [
    {
     "data": {
      "image/png": "[encoded data removed]",
      "text/plain": [
       "<Figure size 432x288 with 1 Axes>"
      ]
     },
     "metadata": {
      "needs_background": "light"
     },
     "output_type": "display_data"
    }
   ],
   "source": [
    "# Option Strike\n",
    "K = 8000\n",
    "\n",
    "# Graphical Output\n",
    "S = np.linspace(7000, 9000,100) # index level values \n",
    "h = np.maximum(S - K, 0) # inner values of call option (or intrinsic value or payoff)\n",
    "\n",
    "plt.figure()\n",
    "plt.plot(S, h, lw=2.5) # plot inner values at maturity \n",
    "plt.xlabel('index level $S_t$ at maturity') \n",
    "plt.ylabel('inner value of European call option') \n",
    "plt.grid(True)\n"
   ]
  },
  {
   "cell_type": "markdown",
   "id": "129b5e7f",
   "metadata": {},
   "source": [
    "## Three scenarios have to be distinguished with regard to the so-called moneyness of an option:\n",
    "\n",
    "    􏰀 in-the-money (ITM): a call (put) is in-the-money if S > K (S < K)\n",
    "\n",
    "    􏰀 at-the-money (ATM): an option, call or put, is at-the-money if S ≈ K\n",
    "\n",
    "    􏰀 out-of-the-money (OTM): a call (put) is out-of-the-money if S < K (S > K)"
   ]
  },
  {
   "cell_type": "code",
   "execution_count": null,
   "id": "08cc88e6",
   "metadata": {},
   "outputs": [],
   "source": []
  }
 ],
 "metadata": {
  "kernelspec": {
   "display_name": "Python 3 (ipykernel)",
   "language": "python",
   "name": "python3"
  },
  "language_info": {
   "codemirror_mode": {
    "name": "ipython",
    "version": 3
   },
   "file_extension": ".py",
   "mimetype": "text/x-python",
   "name": "python",
   "nbconvert_exporter": "python",
   "pygments_lexer": "ipython3",
   "version": "3.9.7"
  }
 },
 "nbformat": 4,
 "nbformat_minor": 5
}
